{
 "cells": [
  {
   "cell_type": "markdown",
   "id": "72ece39b",
   "metadata": {},
   "source": [
    "# Importing modules and settings"
   ]
  },
  {
   "cell_type": "code",
   "execution_count": 1,
   "id": "238c8e41",
   "metadata": {},
   "outputs": [],
   "source": [
    "import pandas as pd\n",
    "import matplotlib.pyplot as plt\n",
    "import seaborn as sns"
   ]
  },
  {
   "cell_type": "code",
   "execution_count": 2,
   "id": "5d7100da",
   "metadata": {},
   "outputs": [],
   "source": [
    "palette = sns.color_palette('tab10', 3)"
   ]
  },
  {
   "cell_type": "code",
   "execution_count": 3,
   "id": "13bc288e",
   "metadata": {},
   "outputs": [
    {
     "data": {
      "text/html": [
       "<svg  width=\"165\" height=\"55\"><rect x=\"0\" y=\"0\" width=\"55\" height=\"55\" style=\"fill:#1f77b4;stroke-width:2;stroke:rgb(255,255,255)\"/><rect x=\"55\" y=\"0\" width=\"55\" height=\"55\" style=\"fill:#ff7f0e;stroke-width:2;stroke:rgb(255,255,255)\"/><rect x=\"110\" y=\"0\" width=\"55\" height=\"55\" style=\"fill:#2ca02c;stroke-width:2;stroke:rgb(255,255,255)\"/></svg>"
      ],
      "text/plain": [
       "[(0.12156862745098039, 0.4666666666666667, 0.7058823529411765),\n",
       " (1.0, 0.4980392156862745, 0.054901960784313725),\n",
       " (0.17254901960784313, 0.6274509803921569, 0.17254901960784313)]"
      ]
     },
     "execution_count": 3,
     "metadata": {},
     "output_type": "execute_result"
    }
   ],
   "source": [
    "palette"
   ]
  },
  {
   "cell_type": "markdown",
   "id": "16645401",
   "metadata": {},
   "source": [
    "# Loading the sizes measurements"
   ]
  },
  {
   "cell_type": "code",
   "execution_count": 4,
   "id": "e0806493",
   "metadata": {},
   "outputs": [],
   "source": [
    "me = pd.read_excel('sizes_measurements_LMS.xlsx')"
   ]
  },
  {
   "cell_type": "code",
   "execution_count": 5,
   "id": "7ff55c38",
   "metadata": {},
   "outputs": [
    {
     "data": {
      "text/html": [
       "<div>\n",
       "<style scoped>\n",
       "    .dataframe tbody tr th:only-of-type {\n",
       "        vertical-align: middle;\n",
       "    }\n",
       "\n",
       "    .dataframe tbody tr th {\n",
       "        vertical-align: top;\n",
       "    }\n",
       "\n",
       "    .dataframe thead th {\n",
       "        text-align: right;\n",
       "    }\n",
       "</style>\n",
       "<table border=\"1\" class=\"dataframe\">\n",
       "  <thead>\n",
       "    <tr style=\"text-align: right;\">\n",
       "      <th></th>\n",
       "      <th>L</th>\n",
       "      <th>M</th>\n",
       "      <th>S</th>\n",
       "    </tr>\n",
       "  </thead>\n",
       "  <tbody>\n",
       "    <tr>\n",
       "      <th>0</th>\n",
       "      <td>8.7308</td>\n",
       "      <td>4.9942</td>\n",
       "      <td>0.7307</td>\n",
       "    </tr>\n",
       "    <tr>\n",
       "      <th>1</th>\n",
       "      <td>6.2640</td>\n",
       "      <td>2.9091</td>\n",
       "      <td>0.7307</td>\n",
       "    </tr>\n",
       "    <tr>\n",
       "      <th>2</th>\n",
       "      <td>8.6427</td>\n",
       "      <td>4.7785</td>\n",
       "      <td>1.6140</td>\n",
       "    </tr>\n",
       "    <tr>\n",
       "      <th>3</th>\n",
       "      <td>8.2903</td>\n",
       "      <td>2.9091</td>\n",
       "      <td>1.2928</td>\n",
       "    </tr>\n",
       "    <tr>\n",
       "      <th>4</th>\n",
       "      <td>10.4928</td>\n",
       "      <td>4.9223</td>\n",
       "      <td>1.3731</td>\n",
       "    </tr>\n",
       "    <tr>\n",
       "      <th>...</th>\n",
       "      <td>...</td>\n",
       "      <td>...</td>\n",
       "      <td>...</td>\n",
       "    </tr>\n",
       "    <tr>\n",
       "      <th>95</th>\n",
       "      <td>NaN</td>\n",
       "      <td>NaN</td>\n",
       "      <td>2.0775</td>\n",
       "    </tr>\n",
       "    <tr>\n",
       "      <th>96</th>\n",
       "      <td>NaN</td>\n",
       "      <td>NaN</td>\n",
       "      <td>1.1844</td>\n",
       "    </tr>\n",
       "    <tr>\n",
       "      <th>97</th>\n",
       "      <td>NaN</td>\n",
       "      <td>NaN</td>\n",
       "      <td>0.9783</td>\n",
       "    </tr>\n",
       "    <tr>\n",
       "      <th>98</th>\n",
       "      <td>NaN</td>\n",
       "      <td>NaN</td>\n",
       "      <td>1.5966</td>\n",
       "    </tr>\n",
       "    <tr>\n",
       "      <th>99</th>\n",
       "      <td>NaN</td>\n",
       "      <td>NaN</td>\n",
       "      <td>1.0470</td>\n",
       "    </tr>\n",
       "  </tbody>\n",
       "</table>\n",
       "<p>100 rows × 3 columns</p>\n",
       "</div>"
      ],
      "text/plain": [
       "          L       M       S\n",
       "0    8.7308  4.9942  0.7307\n",
       "1    6.2640  2.9091  0.7307\n",
       "2    8.6427  4.7785  1.6140\n",
       "3    8.2903  2.9091  1.2928\n",
       "4   10.4928  4.9223  1.3731\n",
       "..      ...     ...     ...\n",
       "95      NaN     NaN  2.0775\n",
       "96      NaN     NaN  1.1844\n",
       "97      NaN     NaN  0.9783\n",
       "98      NaN     NaN  1.5966\n",
       "99      NaN     NaN  1.0470\n",
       "\n",
       "[100 rows x 3 columns]"
      ]
     },
     "execution_count": 5,
     "metadata": {},
     "output_type": "execute_result"
    }
   ],
   "source": [
    "me"
   ]
  },
  {
   "cell_type": "markdown",
   "id": "c8f05398",
   "metadata": {},
   "source": [
    "# Sizes stripplot"
   ]
  },
  {
   "cell_type": "code",
   "execution_count": 9,
   "id": "0816c260",
   "metadata": {},
   "outputs": [
    {
     "data": {
      "image/png": "[encoded data removed]",
      "text/plain": [
       "<Figure size 500x500 with 1 Axes>"
      ]
     },
     "metadata": {},
     "output_type": "display_data"
    }
   ],
   "source": [
    "with plt.rc_context({'figure.figsize': (5, 5)}):\n",
    "    sns.stripplot(data = me, palette = palette, jitter = 0.4)\n",
    "    plt.ylabel('mm2')\n",
    "    plt.text(0, 12.5, round(me['L'].mean(), 2) , fontsize=18, ha=\"center\")\n",
    "    plt.text(1, 12.5, round(me['M'].mean(), 2) , fontsize=18, ha=\"center\")\n",
    "    plt.text(2, 12.5, round(me['S'].mean(), 2) , fontsize=18, ha=\"center\")\n",
    "    plt.savefig('./figure_1/stripplot.pdf')"
   ]
  },
  {
   "cell_type": "code",
   "execution_count": 7,
   "id": "f6bafb12",
   "metadata": {},
   "outputs": [],
   "source": [
    "#len(me['L'].dropna())"
   ]
  },
  {
   "cell_type": "markdown",
   "id": "04038211",
   "metadata": {},
   "source": [
    "# Sizes stripplot"
   ]
  },
  {
   "cell_type": "code",
   "execution_count": 8,
   "id": "c7a1c0fe",
   "metadata": {},
   "outputs": [
    {
     "data": {
      "image/png": "[encoded data removed]",
      "text/plain": [
       "<Figure size 500x500 with 1 Axes>"
      ]
     },
     "metadata": {},
     "output_type": "display_data"
    }
   ],
   "source": [
    "with plt.rc_context({'figure.figsize': (5, 5)}):\n",
    "    plt.bar(height = [len(me['L'].dropna()), len(me['M'].dropna()), len(me['S'].dropna())], x = me.columns, color = palette)\n",
    "    plt.ylabel('number of animals')\n",
    "    plt.yticks(range(0,110,10))\n",
    "    plt.savefig('./figure_1/number_of_animals.pdf')"
   ]
  },
  {
   "cell_type": "code",
   "execution_count": null,
   "id": "7d2b7d5b",
   "metadata": {},
   "outputs": [],
   "source": []
  }
 ],
 "metadata": {
  "kernelspec": {
   "display_name": "Python 3",
   "language": "python",
   "name": "python3"
  },
  "language_info": {
   "codemirror_mode": {
    "name": "ipython",
    "version": 3
   },
   "file_extension": ".py",
   "mimetype": "text/x-python",
   "name": "python",
   "nbconvert_exporter": "python",
   "pygments_lexer": "ipython3",
   "version": "3.8.8"
  }
 },
 "nbformat": 4,
 "nbformat_minor": 5
}
